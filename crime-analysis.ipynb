{
 "cells": [
  {
   "cell_type": "code",
   "execution_count": 15,
   "metadata": {},
   "outputs": [
    {
     "name": "stderr",
     "output_type": "stream",
     "text": [
      "C:\\Users\\Tejas\\AppData\\Local\\Temp\\ipykernel_14588\\114171827.py:4: DtypeWarning: Columns (1,10,11) have mixed types. Specify dtype option on import or set low_memory=False.\n",
      "  crime_data = pd.read_csv(\"Crime_Data_20240210.csv\")\n"
     ]
    },
    {
     "name": "stdout",
     "output_type": "stream",
     "text": [
      "  Case and Offense Case Number Reported Date       Nature Of Call  \\\n",
      "0    180094593-35A   180094593    10/22/2018  NARCOTIC VIOLATIONS   \n",
      "1    200085517-90Z   200085517    11/03/2020               HARASS   \n",
      "2    210012743-240   210012743    02/20/2021           AUTO THEFT   \n",
      "3    190047946-35A   190047946    06/04/2019  NARCOTIC VIOLATIONS   \n",
      "4    190031427-90D   190031427    04/13/2019                  DWI   \n",
      "\n",
      "                From Date Offense  \\\n",
      "0  10/22/2018 06:15:00 PM     35A   \n",
      "1  08/12/2020 05:18:00 AM     90Z   \n",
      "2  02/20/2021 08:27:59 PM     240   \n",
      "3  06/04/2019 01:33:49 AM     35A   \n",
      "4  04/13/2019 02:44:37 AM     90D   \n",
      "\n",
      "                                         Description  \\\n",
      "0  HSC 481.115(B) Poss CS PG 1 <1G 35A DRUG/NARCOTIC   \n",
      "1                             PC 42.07(C) Harassment   \n",
      "2  PC 31.03(E)(4)(A)AUTO Theft>$1500<$20K (Auto t...   \n",
      "3  HSC 481.117(B) Poss CS PG 3 <28G 35A DRUG/NARC...   \n",
      "4  PC 49.04 Driving While Intoxicated 90D DRIVING...   \n",
      "\n",
      "                    Block Address        City State Beat Division  \\\n",
      "0        700 CALIFORNIA PKWY N WB  FORT WORTH    TX  J13      NaN   \n",
      "1             1300 MARLBOROUGH DR  FORT WORTH    TX  I16    South   \n",
      "2         SANDY LN & EDERVILLE RD  FORT WORTH    TX  H15     East   \n",
      "3   OAK GROVE RD / E IH 20 FWY EB         NaN    TX  I17      NaN   \n",
      "4  WEST FWY SR WB / GREEN OAKS RD         NaN    TX  L11      NaN   \n",
      "\n",
      "   Council District Attempt Complete  Location Type   Location Description  \\\n",
      "0               NaN                C           13.0  13 HIGHWAY/ROAD/ALLEY   \n",
      "1               8.0                C           20.0      20 RESIDENCE/HOME   \n",
      "2               5.0                C           18.0  18 PARKING LOT/GARAGE   \n",
      "3               NaN                C           13.0  13 HIGHWAY/ROAD/ALLEY   \n",
      "4               NaN                C           13.0  13 HIGHWAY/ROAD/ALLEY   \n",
      "\n",
      "                                   Location  \n",
      "0                                       NaN  \n",
      "1  (32.640426597727426, -97.33851074771222)  \n",
      "2                                       NaN  \n",
      "3                                       NaN  \n",
      "4                                       NaN  \n"
     ]
    }
   ],
   "source": [
    "import pandas as pd\n",
    "\n",
    "# Load the crime data into a DataFrame\n",
    "crime_data = pd.read_csv(\"Crime_Data_20240210.csv\")\n",
    "\n",
    "# Display the first few rows of the DataFrame to ensure it loaded correctly\n",
    "print(crime_data.head())\n"
   ]
  }
 ],
 "metadata": {
  "kernelspec": {
   "display_name": "Python 3",
   "language": "python",
   "name": "python3"
  },
  "language_info": {
   "codemirror_mode": {
    "name": "ipython",
    "version": 3
   },
   "file_extension": ".py",
   "mimetype": "text/x-python",
   "name": "python",
   "nbconvert_exporter": "python",
   "pygments_lexer": "ipython3",
   "version": "3.11.4"
  }
 },
 "nbformat": 4,
 "nbformat_minor": 2
}
